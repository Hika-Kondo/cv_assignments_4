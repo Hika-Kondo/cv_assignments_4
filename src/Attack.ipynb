{
 "cells": [
  {
   "cell_type": "code",
   "execution_count": null,
   "metadata": {},
   "outputs": [],
   "source": [
    "from models import ResNet, LeNet\n",
    "from utils import attack_model\n",
    "from dataloader import MyMNIST\n",
    "\n",
    "\n",
    "import torch\n",
    "from torch.utils.data import DataLoader\n",
    "import torchvision\n",
    "from torchvision import transforms, datasets\n",
    "import torch.utils as utils\n",
    "import matplotlib.pyplot as plt\n",
    "\n",
    "\n",
    "# Pretrain = \"../res/outputs/2020-12-08/11-01-31/model/model.pt\"\n",
    "Pretrain = \"../res/multirun/2020-12-09/16-08-59/1/model/model.pt\"\n",
    "\n",
    "# load model\n",
    "net = ResNet(in_chan=1, base=64, num_layer=6, kernel_size=3, act_fn=\"ReLU\", maxpool_freq=3, bias=True,\n",
    "               linear_in=3136, linear_num=2, scale_factor=0.5, out_chan=10, final=\"Softmax\").cuda()\n",
    "# net = LeNet().cuda()\n",
    "\n",
    "# lenet.load_state_dict(torch.load(\"../res/outputs/2020-12-08/11-01-31/model/model.pt\"))\n",
    "\n",
    "transform = transforms.Compose([transforms.ToTensor()])\n",
    "mnist_test  = datasets.MNIST('./data', train=False, download=True, transform=transform)\n",
    "mnist_testloader  = utils.data.DataLoader(mnist_test,  batch_size=1,  shuffle=False, num_workers=2)\n",
    "\n",
    "epsilon = 0.3  # epsilon is the pixel-wise perturbation amount. A Hyper-param\n",
    "lenet_adv_samples, sample_labels = attack_model(net, mnist_testloader, epsilon=epsilon, Pretrained=Pretrain)\n",
    "\n",
    "show_imgs = torch.cat(lenet_adv_samples[:10], dim=0)\n",
    "show_imgs = torchvision.utils.make_grid(show_imgs, nrow=10).numpy().transpose((1,2,0))\n",
    "plt.imshow(show_imgs)\n",
    "print(sample_labels[:10])"
   ]
  }
 ],
 "metadata": {
  "kernelspec": {
   "display_name": "Python 3",
   "language": "python",
   "name": "python3"
  },
  "language_info": {
   "codemirror_mode": {
    "name": "ipython",
    "version": 3
   },
   "file_extension": ".py",
   "mimetype": "text/x-python",
   "name": "python",
   "nbconvert_exporter": "python",
   "pygments_lexer": "ipython3",
   "version": "3.8.5"
  }
 },
 "nbformat": 4,
 "nbformat_minor": 4
}
